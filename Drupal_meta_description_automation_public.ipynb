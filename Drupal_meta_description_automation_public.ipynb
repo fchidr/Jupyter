{
  "nbformat": 4,
  "nbformat_minor": 0,
  "metadata": {
    "colab": {
      "name": "Drupal meta description automation public.ipynb",
      "provenance": []
    },
    "kernelspec": {
      "name": "python3",
      "display_name": "Python 3"
    }
  },
  "cells": [
    {
      "cell_type": "markdown",
      "metadata": {
        "id": "-SGBf7MMQDZZ"
      },
      "source": [
        "## Settings"
      ]
    },
    {
      "cell_type": "code",
      "metadata": {
        "id": "VB6cn86bQV1O"
      },
      "source": [
        "user=\"\" #@param {type:\"string\"}\n",
        "password=\"\" #@param {type:\"string\"}\n",
        "filename=\"metadescriptions - Sheet1.csv\" #@param {type:\"string\"}\n",
        "website=\"https://www.\" #@param {type:\"string\"}"
      ],
      "execution_count": null,
      "outputs": []
    },
    {
      "cell_type": "markdown",
      "metadata": {
        "id": "0G1bmP_MSDiN"
      },
      "source": [
        "##Upload your meta description CSV. \n",
        "Be sure your CSV file contains the header columns \"URL\" as first column and \"Meta description\" as second column"
      ]
    },
    {
      "cell_type": "code",
      "metadata": {
        "id": "kNzd6VZJRhRS"
      },
      "source": [
        "from google.colab import files\n",
        "csvfile = files.upload()"
      ],
      "execution_count": null,
      "outputs": []
    },
    {
      "cell_type": "code",
      "metadata": {
        "id": "6oFUVkTASVXs"
      },
      "source": [
        "import pandas as pd\n",
        "df = pd.read_csv(filename)\n",
        "df.head()"
      ],
      "execution_count": null,
      "outputs": []
    },
    {
      "cell_type": "markdown",
      "metadata": {
        "id": "4x5FJu9_djr7"
      },
      "source": [
        "## Install modules\n",
        "\n"
      ]
    },
    {
      "cell_type": "code",
      "metadata": {
        "id": "WorM6n55QEFT"
      },
      "source": [
        "!pip install selenium\n",
        "!apt-get update \n",
        "!apt install chromium-chromedriver\n",
        "\n",
        "from selenium import webdriver\n",
        "from selenium.webdriver.common.keys import Keys\n",
        "\n",
        "chrome_options = webdriver.ChromeOptions()\n",
        "chrome_options.add_argument('--headless')\n",
        "chrome_options.add_argument('--no-sandbox')\n",
        "chrome_options.add_argument('--disable-dev-shm-usage')\n",
        "driver =webdriver.Chrome('chromedriver',chrome_options=chrome_options)"
      ],
      "execution_count": null,
      "outputs": []
    },
    {
      "cell_type": "markdown",
      "metadata": {
        "id": "ru4GMhPmdrsP"
      },
      "source": [
        "## Login"
      ]
    },
    {
      "cell_type": "code",
      "metadata": {
        "id": "FvQIQrQAo8u1"
      },
      "source": [
        "loginpage=website+\"user\"\n",
        "driver.get(loginpage)\n",
        "print(driver.page_source[0:1500])  # results"
      ],
      "execution_count": null,
      "outputs": []
    },
    {
      "cell_type": "code",
      "metadata": {
        "id": "TtkVIxmtVMAp"
      },
      "source": [
        "login = driver.find_element_by_id(\"edit-name\")\n",
        "login.send_keys(user)\n",
        "passwordfield = driver.find_element_by_id(\"edit-pass\")\n",
        "passwordfield.send_keys(password)\n",
        "passwordfield.send_keys(Keys.ENTER)"
      ],
      "execution_count": null,
      "outputs": []
    },
    {
      "cell_type": "markdown",
      "metadata": {
        "id": "kFxSRCpFdv01"
      },
      "source": [
        "## Update descriptions"
      ]
    },
    {
      "cell_type": "code",
      "metadata": {
        "id": "PoRwrCiEZ6LR"
      },
      "source": [
        "#change meta description of every url\n",
        "for index,row in df.iterrows(): \n",
        "  driver.get(row[0])\n",
        "  editxpath=\"/html/body/main/div/div/div/ul/li[2]/a\"\n",
        "  driver.find_element_by_xpath(editxpath).click()\n",
        "  seoxpath='//*[@id=\"activity-node-form\"]/div/div[1]/div/ul/li[3]/a'\n",
        "  driver.find_element_by_xpath(seoxpath).click()\n",
        "  textareaid=\"edit-metatags-nl-description-value\"\n",
        "  driver.find_element_by_id(textareaid).clear()\n",
        "  driver.find_element_by_id(textareaid).send_keys(row[1])\n",
        "  submitid=\"edit-submit\"\n",
        "  driver.find_element_by_id(submitid).click()\n",
        "\n",
        "\n"
      ],
      "execution_count": null,
      "outputs": []
    }
  ]
}